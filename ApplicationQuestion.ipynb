{
 "cells": [
  {
   "cell_type": "code",
   "execution_count": 11,
   "metadata": {},
   "outputs": [
    {
     "name": "stdout",
     "output_type": "stream",
     "text": [
      "██████████░ ██████░    ███████░  ██░           ███░ ████████░    ██░    ███░   ████████░  \n",
      "██░           ██░    ███░    ██░ ███░   ███░   ██░  ██░     ██░  ██░  ███░   ███░     ███░\n",
      "██░           ██░   ███░          ██░  █████░ ███░  ██░      ██░ ██░███░     ██░       ██░\n",
      "████████░     ██░   ██░           ███░ ██░██░ ██░   ██░      ██░ ████░       ██░       ██░\n",
      "██░           ██░   ███░           ██░██░ ██░██░    ██░      ██░ ██░███░     ██░       ██░\n",
      "██░           ██░    ███░    ██░   ████░   ████░    ██░     ██░  ██░  ███░   ███░     ███░\n",
      "██████████░ ██████░    ███████░     ██░     ██░     ████████░    ██░    ███░   ████████░  \n"
     ]
    }
   ],
   "source": [
    "import requests\n",
    "from bs4 import BeautifulSoup\n",
    "\n",
    "#get html content from the URL\n",
    "def get_data(URL):\n",
    "    return requests.get(URL).text\n",
    "\n",
    "#parse data from html content (find the table, then parse its data)\n",
    "def parse(data):\n",
    "    #html parsing\n",
    "    soup = BeautifulSoup(data, 'html.parser')\n",
    "    table = soup.find('table')\n",
    "\n",
    "    parsed_data = []#empty list to store data\n",
    "    \n",
    "    rows = table.find_all('tr')#get the table rows\n",
    "    for row_index, row in enumerate(rows):\n",
    "        if row_index == 0:\n",
    "            continue#skip the first row, with the column names\n",
    "        \n",
    "        cells = row.find_all('td')#get the row's cells\n",
    "        x, char, y = cells #get data\n",
    "\n",
    "        #process data to int, char, int\n",
    "        x_val = int(x.get_text().strip())\n",
    "        char_val = char.get_text().strip() \n",
    "        y_val = int(y.get_text().strip())\n",
    "\n",
    "        parsed_data.append((x_val, char_val, y_val))#append data to the list\n",
    "    return parsed_data\n",
    "\n",
    "#print the data on a grid\n",
    "def print_message(parsed_data):\n",
    "    #create a grid for the data to be printed in\n",
    "    X_max = max(point[0] for point in parsed_data)\n",
    "    Y_max = max(point[2] for point in parsed_data)\n",
    "    grid = [[' ' for _ in range(X_max+1)] for _ in range (Y_max+1)]\n",
    "\n",
    "    #print the data on the grid\n",
    "    for x, char, y in parsed_data:\n",
    "        grid[Y_max-y][x] = char #invert Y to match bottom left coordinate being [0, 0]\n",
    "    for row in grid:\n",
    "        print(''.join(row))\n",
    "\n",
    "\n",
    "#main driver function\n",
    "def print_secret_message(url):\n",
    "    #call the functions\n",
    "    print_message(parse(get_data(url)))\n",
    "\n",
    "#call main function\n",
    "print_secret_message(\"https://docs.google.com/document/d/e/2PACX-1vSHesOf9hv2sPOntssYrEdubmMQm8lwjfwv6NPjjmIRYs_FOYXtqrYgjh85jBUebK9swPXh_a5TJ5Kl/pub\")\n"
   ]
  }
 ],
 "metadata": {
  "kernelspec": {
   "display_name": "ds3000",
   "language": "python",
   "name": "python3"
  },
  "language_info": {
   "codemirror_mode": {
    "name": "ipython",
    "version": 3
   },
   "file_extension": ".py",
   "mimetype": "text/x-python",
   "name": "python",
   "nbconvert_exporter": "python",
   "pygments_lexer": "ipython3",
   "version": "3.11.7"
  }
 },
 "nbformat": 4,
 "nbformat_minor": 2
}
