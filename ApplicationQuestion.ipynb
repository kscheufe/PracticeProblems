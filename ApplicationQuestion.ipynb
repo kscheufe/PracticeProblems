{
 "cells": [
  {
   "cell_type": "code",
   "execution_count": 1,
   "metadata": {},
   "outputs": [
    {
     "name": "stdout",
     "output_type": "stream",
     "text": [
      "██████████░ ██████░    ███████░  ██░           ███░ ████████░    ██░    ███░   ████████░  \n",
      "██░           ██░    ███░    ██░ ███░   ███░   ██░  ██░     ██░  ██░  ███░   ███░     ███░\n",
      "██░           ██░   ███░          ██░  █████░ ███░  ██░      ██░ ██░███░     ██░       ██░\n",
      "████████░     ██░   ██░           ███░ ██░██░ ██░   ██░      ██░ ████░       ██░       ██░\n",
      "██░           ██░   ███░           ██░██░ ██░██░    ██░      ██░ ██░███░     ██░       ██░\n",
      "██░           ██░    ███░    ██░   ████░   ████░    ██░     ██░  ██░  ███░   ███░     ███░\n",
      "██████████░ ██████░    ███████░     ██░     ██░     ████████░    ██░    ███░   ████████░  \n"
     ]
    }
   ],
   "source": [
    "import requests\n",
    "from bs4 import BeautifulSoup\n",
    "\n",
    "#get html content from the URL\n",
    "def get_data(URL):\n",
    "    return requests.get(URL).text\n",
    "\n",
    "#parse data from html content (find the table, then parse its data)\n",
    "def parse(data):\n",
    "    #html parsing\n",
    "    soup = BeautifulSoup(data, 'html.parser')\n",
    "    table = soup.find('table')\n",
    "\n",
    "    parsed_data = []#empty list to store data\n",
    "    \n",
    "    rows = table.find_all('tr')#get the table rows\n",
    "    for row_index, row in enumerate(rows):\n",
    "        if row_index == 0:\n",
    "            continue#skip the first row, with the column names\n",
    "        \n",
    "        cells = row.find_all('td')#get the row's cells\n",
    "        x, char, y = cells #get data\n",
    "\n",
    "        #process data to int, char, int\n",
    "        x_val = int(x.get_text().strip())\n",
    "        char_val = char.get_text().strip() \n",
    "        y_val = int(y.get_text().strip())\n",
    "\n",
    "        parsed_data.append((x_val, char_val, y_val))#append data to the list\n",
    "    return parsed_data\n",
    "\n",
    "#print the data on a grid\n",
    "def print_message(parsed_data):\n",
    "    #create a grid for the data to be printed in\n",
    "    X_max = max(point[0] for point in parsed_data)\n",
    "    Y_max = max(point[2] for point in parsed_data)\n",
    "    grid = [[' ' for _ in range(X_max+1)] for _ in range (Y_max+1)]\n",
    "\n",
    "    #print the data on the grid\n",
    "    for x, char, y in parsed_data:\n",
    "        grid[Y_max-y][x] = char #invert Y to match bottom left coordinate being [0, 0]\n",
    "    for row in grid:\n",
    "        print(''.join(row))\n",
    "\n",
    "\n",
    "#main driver function\n",
    "def print_secret_message(url):\n",
    "    #call the functions\n",
    "    print_message(parse(get_data(url)))\n",
    "\n",
    "#call main function\n",
    "print_secret_message(\"https://docs.google.com/document/d/e/2PACX-1vSHesOf9hv2sPOntssYrEdubmMQm8lwjfwv6NPjjmIRYs_FOYXtqrYgjh85jBUebK9swPXh_a5TJ5Kl/pub\")\n"
   ]
  },
  {
   "cell_type": "code",
   "execution_count": 8,
   "metadata": {},
   "outputs": [
    {
     "name": "stdout",
     "output_type": "stream",
     "text": [
      "Testing opening directory: c:\\WorkSpace\\PracticeProblems\\HTML\n",
      "VS Code executable not found. Make sure it's in your PATH or use the full path to the executable.\n"
     ]
    }
   ],
   "source": [
    "import os\n",
    "import subprocess\n",
    "\n",
    "def open_directory_in_vscode(directory_path):\n",
    "    \"\"\"Opens the specified directory in Visual Studio Code.\"\"\"\n",
    "\n",
    "    try:\n",
    "        if os.path.exists(directory_path):\n",
    "            # Check if VS Code is in PATH\n",
    "            try:\n",
    "                subprocess.run([\"code\", \"--version\"], capture_output=True, check=True)  # Check VS Code version to verify installation\n",
    "                subprocess.run([\"code\", directory_path], check=True)\n",
    "                print(f\"Successfully opened '{directory_path}' in VS Code.\")\n",
    "            except FileNotFoundError:\n",
    "                print(\"VS Code executable not found. Make sure it's in your PATH or use the full path to the executable.\")\n",
    "            except subprocess.CalledProcessError as e:\n",
    "                print(f\"Error opening directory in VS Code: {e}\")\n",
    "        else:\n",
    "            print(f\"Error: Directory '{directory_path}' does not exist.\")\n",
    "\n",
    "    except Exception as e:\n",
    "        print(f\"An unexpected error occurred: {e}\")\n",
    "\n",
    "\n",
    "def get_parent_directory(current_path):\n",
    "    \"\"\"Gets the parent directory of the given path.\"\"\"\n",
    "    return os.path.dirname(current_path)\n",
    "\n",
    "\n",
    "def get_html_directory_path():\n",
    "    \"\"\"Gets the path to the 'HTML' directory one level above.\"\"\"\n",
    "\n",
    "    current_directory = os.getcwd()\n",
    "    parent_directory = get_parent_directory(current_directory)\n",
    "    html_directory = os.path.join(parent_directory, \"HTML\")\n",
    "    return html_directory\n",
    "\n",
    "\n",
    "# Test Cases\n",
    "\n",
    "# Define a function to test the overall functionality\n",
    "def test_open_directory_in_vscode():\n",
    "    html_dir_path = get_html_directory_path()\n",
    "    print(f'Testing opening directory: {html_dir_path}')\n",
    "    open_directory_in_vscode(html_dir_path)\n",
    "\n",
    "# Run the test\n",
    "test_open_directory_in_vscode()\n"
   ]
  }
 ],
 "metadata": {
  "kernelspec": {
   "display_name": "ds3000",
   "language": "python",
   "name": "python3"
  },
  "language_info": {
   "codemirror_mode": {
    "name": "ipython",
    "version": 3
   },
   "file_extension": ".py",
   "mimetype": "text/x-python",
   "name": "python",
   "nbconvert_exporter": "python",
   "pygments_lexer": "ipython3",
   "version": "3.11.7"
  }
 },
 "nbformat": 4,
 "nbformat_minor": 2
}
